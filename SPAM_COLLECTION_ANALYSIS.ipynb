{
 "cells": [
  {
   "cell_type": "code",
   "execution_count": 1,
   "metadata": {},
   "outputs": [
    {
     "data": {
      "text/html": [
       "<div>\n",
       "<style scoped>\n",
       "    .dataframe tbody tr th:only-of-type {\n",
       "        vertical-align: middle;\n",
       "    }\n",
       "\n",
       "    .dataframe tbody tr th {\n",
       "        vertical-align: top;\n",
       "    }\n",
       "\n",
       "    .dataframe thead th {\n",
       "        text-align: right;\n",
       "    }\n",
       "</style>\n",
       "<table border=\"1\" class=\"dataframe\">\n",
       "  <thead>\n",
       "    <tr style=\"text-align: right;\">\n",
       "      <th></th>\n",
       "      <th>Type</th>\n",
       "      <th>Text</th>\n",
       "    </tr>\n",
       "  </thead>\n",
       "  <tbody>\n",
       "    <tr>\n",
       "      <td>0</td>\n",
       "      <td>ham</td>\n",
       "      <td>Go until jurong point, crazy.. Available only ...</td>\n",
       "    </tr>\n",
       "    <tr>\n",
       "      <td>1</td>\n",
       "      <td>ham</td>\n",
       "      <td>Ok lar... Joking wif u oni...</td>\n",
       "    </tr>\n",
       "    <tr>\n",
       "      <td>2</td>\n",
       "      <td>spam</td>\n",
       "      <td>Free entry in 2 a wkly comp to win FA Cup fina...</td>\n",
       "    </tr>\n",
       "    <tr>\n",
       "      <td>3</td>\n",
       "      <td>ham</td>\n",
       "      <td>U dun say so early hor... U c already then say...</td>\n",
       "    </tr>\n",
       "    <tr>\n",
       "      <td>4</td>\n",
       "      <td>ham</td>\n",
       "      <td>Nah I don't think he goes to usf, he lives aro...</td>\n",
       "    </tr>\n",
       "    <tr>\n",
       "      <td>5</td>\n",
       "      <td>spam</td>\n",
       "      <td>FreeMsg Hey there darling it's been 3 week's n...</td>\n",
       "    </tr>\n",
       "    <tr>\n",
       "      <td>6</td>\n",
       "      <td>ham</td>\n",
       "      <td>Even my brother is not like to speak with me. ...</td>\n",
       "    </tr>\n",
       "    <tr>\n",
       "      <td>7</td>\n",
       "      <td>ham</td>\n",
       "      <td>As per your request 'Melle Melle (Oru Minnamin...</td>\n",
       "    </tr>\n",
       "    <tr>\n",
       "      <td>8</td>\n",
       "      <td>spam</td>\n",
       "      <td>WINNER!! As a valued network customer you have...</td>\n",
       "    </tr>\n",
       "    <tr>\n",
       "      <td>9</td>\n",
       "      <td>spam</td>\n",
       "      <td>Had your mobile 11 months or more? U R entitle...</td>\n",
       "    </tr>\n",
       "    <tr>\n",
       "      <td>10</td>\n",
       "      <td>ham</td>\n",
       "      <td>I'm gonna be home soon and i don't want to tal...</td>\n",
       "    </tr>\n",
       "    <tr>\n",
       "      <td>11</td>\n",
       "      <td>spam</td>\n",
       "      <td>SIX chances to win CASH! From 100 to 20,000 po...</td>\n",
       "    </tr>\n",
       "    <tr>\n",
       "      <td>12</td>\n",
       "      <td>spam</td>\n",
       "      <td>URGENT! You have won a 1 week FREE membership ...</td>\n",
       "    </tr>\n",
       "    <tr>\n",
       "      <td>13</td>\n",
       "      <td>ham</td>\n",
       "      <td>I've been searching for the right words to tha...</td>\n",
       "    </tr>\n",
       "    <tr>\n",
       "      <td>14</td>\n",
       "      <td>ham</td>\n",
       "      <td>I HAVE A DATE ON SUNDAY WITH WILL!!</td>\n",
       "    </tr>\n",
       "  </tbody>\n",
       "</table>\n",
       "</div>"
      ],
      "text/plain": [
       "    Type                                               Text\n",
       "0    ham  Go until jurong point, crazy.. Available only ...\n",
       "1    ham                      Ok lar... Joking wif u oni...\n",
       "2   spam  Free entry in 2 a wkly comp to win FA Cup fina...\n",
       "3    ham  U dun say so early hor... U c already then say...\n",
       "4    ham  Nah I don't think he goes to usf, he lives aro...\n",
       "5   spam  FreeMsg Hey there darling it's been 3 week's n...\n",
       "6    ham  Even my brother is not like to speak with me. ...\n",
       "7    ham  As per your request 'Melle Melle (Oru Minnamin...\n",
       "8   spam  WINNER!! As a valued network customer you have...\n",
       "9   spam  Had your mobile 11 months or more? U R entitle...\n",
       "10   ham  I'm gonna be home soon and i don't want to tal...\n",
       "11  spam  SIX chances to win CASH! From 100 to 20,000 po...\n",
       "12  spam  URGENT! You have won a 1 week FREE membership ...\n",
       "13   ham  I've been searching for the right words to tha...\n",
       "14   ham                I HAVE A DATE ON SUNDAY WITH WILL!!"
      ]
     },
     "execution_count": 1,
     "metadata": {},
     "output_type": "execute_result"
    }
   ],
   "source": [
    "#Задача - научиться отделять спам от неспама\n",
    "#будем рабоать с базой отсюда: https://www.kaggle.com/uciml/sms-spam-collection-dataset\n",
    "\n",
    "import pandas as pd\n",
    "import numpy as np\n",
    "\n",
    "df = pd.read_csv('spam.csv', encoding = 'windows-1251', names = ['Type', 'Text', 'NaN1', 'NaN2', 'NaN3'])\n",
    "df = df.drop(['NaN1', 'NaN2', 'NaN3'], axis = 1).drop([0]).reset_index(drop = True)\n",
    "df.head(15)\n",
    "\n",
    "#df.query('Type==\"spam\"')"
   ]
  },
  {
   "cell_type": "code",
   "execution_count": 2,
   "metadata": {
    "scrolled": true
   },
   "outputs": [
    {
     "name": "stdout",
     "output_type": "stream",
     "text": [
      "Go until jurong point, crazy.. Available only in bugis n great world la e buffet... Cine there got amore wat...  -  0 \n",
      "\n",
      "Ok lar... Joking wif u oni...  -  0 \n",
      "\n",
      "Free entry in 2 a wkly comp to win FA Cup final tkts 21st May 2005. Text FA to 87121 to receive entry question(std txt rate)T&C's apply 08452810075over18's  -  1 \n",
      "\n",
      "U dun say so early hor... U c already then say...  -  0 \n",
      "\n",
      "Nah I don't think he goes to usf, he lives around here though  -  0 \n",
      "\n"
     ]
    }
   ],
   "source": [
    "# пердобработка + разделяем на train/test\n",
    "# в данном случае 0 == ham, 1 == spam\n",
    "\n",
    "y_all = []\n",
    "for tmp in df['Type']:\n",
    "    y_all.append((lambda x: x == 'spam' and 1 or 0)(tmp))\n",
    "\n",
    "sep_num = int(len(df) * 0.7)\n",
    "\n",
    "x_train, y_train = list(df['Text'][:sep_num]), list(y_all[:sep_num])\n",
    "x_test, y_test = list(df['Text'][sep_num:]), list(y_all[sep_num:])\n",
    "\n",
    "for i in range(5):\n",
    "    print(x_train[i], ' - ', y_train[i], '\\n')"
   ]
  },
  {
   "cell_type": "markdown",
   "metadata": {},
   "source": [
    "# --------------------------------------------------------------------------------------------------------------\n",
    "## TF-IDF:\n",
    "\n",
    "\n"
   ]
  },
  {
   "cell_type": "code",
   "execution_count": 3,
   "metadata": {},
   "outputs": [],
   "source": [
    "# Токенизируем входные данные и строим словарь всех известных слов\n",
    "\n",
    "from sklearn.svm import SVC \n",
    "from sklearn.feature_extraction.text import TfidfVectorizer\n",
    "from sklearn.model_selection import GridSearchCV\n",
    "from sklearn.model_selection import KFold\n",
    "\n",
    "vectorizer = TfidfVectorizer()\n",
    "train_x_vect = vectorizer.fit_transform(x_train)\n",
    "#print(train_x_vect)"
   ]
  },
  {
   "cell_type": "code",
   "execution_count": 4,
   "metadata": {},
   "outputs": [
    {
     "data": {
      "text/plain": [
       "(3900, 7252)"
      ]
     },
     "execution_count": 4,
     "metadata": {},
     "output_type": "execute_result"
    }
   ],
   "source": [
    "train_x_vect.toarray().shape\n",
    "\n",
    "#по всем 3900 сообщениям набралось 7252 уникальных слов"
   ]
  },
  {
   "cell_type": "code",
   "execution_count": 5,
   "metadata": {},
   "outputs": [
    {
     "name": "stdout",
     "output_type": "stream",
     "text": [
      "0.9828205128205129\n",
      "{'C': 10.0}\n"
     ]
    }
   ],
   "source": [
    "#попробуем линейное ядро - выберем наиболее оптимальный параметр перебором\n",
    "\n",
    "grid = {'C': np.power(10.0, np.arange(-5, 6))}\n",
    "\n",
    "cv = KFold(n_splits = 5, shuffle = True, random_state = 777)\n",
    "clf = SVC(kernel = 'linear', random_state = 777)\n",
    "\n",
    "gs = GridSearchCV(clf, grid, scoring = 'accuracy', cv = cv)\n",
    "gs.fit(train_x_vect, y_train)\n",
    "\n",
    "print(gs.best_score_)\n",
    "print(gs.best_params_)"
   ]
  },
  {
   "cell_type": "code",
   "execution_count": 6,
   "metadata": {},
   "outputs": [
    {
     "data": {
      "text/plain": [
       "SVC(C=1, cache_size=200, class_weight=None, coef0=0.0,\n",
       "    decision_function_shape='ovr', degree=3, gamma='auto_deprecated',\n",
       "    kernel='linear', max_iter=-1, probability=False, random_state=777,\n",
       "    shrinking=True, tol=0.001, verbose=False)"
      ]
     },
     "execution_count": 6,
     "metadata": {},
     "output_type": "execute_result"
    }
   ],
   "source": [
    "clf = SVC(kernel = 'linear', random_state = 777, C = 1)\n",
    "clf.fit(train_x_vect, y_train)"
   ]
  },
  {
   "cell_type": "code",
   "execution_count": 7,
   "metadata": {
    "scrolled": true
   },
   "outputs": [
    {
     "data": {
      "text/plain": [
       "array([[ 0.48971179,  0.63768299,  0.        , ..., -0.06368171,\n",
       "        -0.06368171,  0.16861006]])"
      ]
     },
     "execution_count": 7,
     "metadata": {},
     "output_type": "execute_result"
    }
   ],
   "source": [
    "clf.coef_.toarray()"
   ]
  },
  {
   "cell_type": "code",
   "execution_count": 8,
   "metadata": {},
   "outputs": [
    {
     "name": "stdout",
     "output_type": "stream",
     "text": [
      "txt\n",
      "claim\n",
      "service\n",
      "uk\n",
      "150p\n",
      "www\n",
      "text\n",
      "http\n",
      "reply\n",
      "chat\n",
      "18\n",
      "mobile\n",
      "ac\n",
      "еј1\n",
      "call\n",
      "ringtone\n",
      "won\n",
      "prize\n",
      "88066\n",
      "urgent\n"
     ]
    }
   ],
   "source": [
    "A = clf.coef_.indices\n",
    "B = np.abs(clf.coef_.data)\n",
    "\n",
    "Words = A[B.argsort()[-20:][::-1]]\n",
    "for i in Words:\n",
    "    print(vectorizer.get_feature_names()[i])    #последние - самые важные для моедли слова"
   ]
  },
  {
   "cell_type": "code",
   "execution_count": 9,
   "metadata": {},
   "outputs": [
    {
     "name": "stdout",
     "output_type": "stream",
     "text": [
      "0\n",
      "0\n",
      "0\n",
      "0\n",
      "1\n",
      "1\n",
      "0\n",
      "0\n",
      "0\n",
      "0\n"
     ]
    }
   ],
   "source": [
    "#проверяем на тестовых данных\n",
    "            \n",
    "X_test = np.array(x_test)\n",
    "test_x_pred_vect = vectorizer.transform(X_test)\n",
    "\n",
    "data_y_pred = clf.predict(test_x_pred_vect)\n",
    "\n",
    "for i in data_y_pred[-10:]:\n",
    "    print(i)"
   ]
  },
  {
   "cell_type": "code",
   "execution_count": 10,
   "metadata": {},
   "outputs": [
    {
     "data": {
      "text/plain": [
       "'This is the 2nd time we have tried 2 contact u. U have won the еЈ750 Pound prize. 2 claim is easy, call 087187272008 NOW1! Only 10p per minute. BT-national-rate.'"
      ]
     },
     "execution_count": 10,
     "metadata": {},
     "output_type": "execute_result"
    }
   ],
   "source": [
    "X_test[-5] #при данном randomstate 0 - спам, 1 - не спам"
   ]
  },
  {
   "cell_type": "code",
   "execution_count": 11,
   "metadata": {},
   "outputs": [
    {
     "name": "stdout",
     "output_type": "stream",
     "text": [
      "accuracy = 0.9868421052631579\n",
      "precision =  0.9166666666666666\n",
      "recall =  0.9858490566037735\n"
     ]
    }
   ],
   "source": [
    "#Сравнение разных метрик\n",
    "#в данном случае negatine = ham, positive = spam\n",
    "\n",
    "\n",
    "test_len = len(y_test)\n",
    "pos_num = sum(y_test)\n",
    "neg_num = test_len - pos_num\n",
    "\n",
    "true_pos = 0\n",
    "true_neg = 0\n",
    "for i in range(test_len):\n",
    "    if data_y_pred[i] == y_test[i] == 1:\n",
    "        true_pos += 1\n",
    "    if data_y_pred[i] == y_test[i] == 0:\n",
    "        true_neg += 1\n",
    "\n",
    "false_pos = pos_num - true_pos\n",
    "false_neg = neg_num - true_neg\n",
    "\n",
    "print('accuracy =', (true_pos + true_neg) / test_len)\n",
    "print('precision = ', true_pos / (true_pos + false_pos))\n",
    "print('recall = ', true_pos / (true_pos + false_neg))"
   ]
  },
  {
   "cell_type": "code",
   "execution_count": 12,
   "metadata": {
    "scrolled": true
   },
   "outputs": [],
   "source": [
    "new_df = pd.read_excel('spam_testing.xlsx')\n",
    "new = []\n",
    "\n",
    "for str_ in new_df['Spam']:\n",
    "    new.append(str_)"
   ]
  },
  {
   "cell_type": "code",
   "execution_count": 13,
   "metadata": {
    "scrolled": true
   },
   "outputs": [
    {
     "name": "stdout",
     "output_type": "stream",
     "text": [
      "We shall await your immediate correspondence with the information requested above to his private email address at (raphaelbostic@usa.com) for fast re-confirmation so that he may conclude your payment immediately.  -  ham \n",
      "\n",
      "You are everywhere dirt, on the floor, the windows, even on my shirt. And sometimes when i open my mouth, you are all that comes flowing out. I dream of my world without you, then half my chores are out too. A time of joy for me, lots of tv shows i.ll see. But i guess like all things you just must exist, like rain, hail and mist, and when my time here is done, you and i become one.  -  ham \n",
      "\n",
      "We are pleased to inform you that an amount of £500,000.00 (GBP) has been donated and given, gifted to you and your family by Steve & Lenka Thomson, who won the EuroMillions jackpot, lottery of £105,100,701.90 Euro Millions, part of this donation,       it is for you and your family. This donation is to help fight against CoronaVirus COVID-19 pandemic in the world, and help the poor people off the streets, also to contribute to poverty reduction, public donations, public charity, orphanages, less      privileged and help poor individuals in your community please contact her to claim the money via email for more details: stevelenka@supportfoundation.co.uk  -  spam \n",
      "\n",
      "Hello handsome ! Are you finding that job ? Not being lazy ? Working towards getting back that net for mummy ? Where's my boytoy now ? Does he miss me ?  -  ham \n",
      "\n",
      "YOUR EMAIL ACCOUNT WAS SELECTED FOR A DONATION OF $ 3,500,000.00 FOR CHARITY. PLEASE CONTACT CHARLES JACKSON WITH THIS EMAIL: cj733981@gmail.com TO CLAIM YOUR DONATION  -  spam \n",
      "\n",
      "You are a winner U have been specially selected 2 receive еЈ1000 or a 4* holiday (flights inc) speak to a live operator 2 claim 0871277810910p/min (18+)  -  spam \n",
      "\n",
      "REMINDER FROM O2: To get 2.50 pounds free call credit and details of great offers pls reply 2 this text with your valid name, house no and postcode  -  spam \n",
      "\n",
      "This is the 2nd time we have tried 2 contact u. U have won the еЈ750 Pound prize. 2 claim is easy, call 087187272008 NOW1! Only 10p per minute. BT-national-rate.  -  spam \n",
      "\n"
     ]
    }
   ],
   "source": [
    "new_pred_vect = vectorizer.transform(new)\n",
    "new_pred = clf.predict(new_pred_vect)\n",
    "\n",
    "for i in range(len(new)):\n",
    "    print(new[i], ' - ', (lambda x: x == 1 and 'spam' or 'ham')(new_pred[i]), '\\n')\n"
   ]
  },
  {
   "cell_type": "markdown",
   "metadata": {},
   "source": [
    "# --------------------------------------------------------------------------------------------------------------\n",
    "## Триграммы:"
   ]
  },
  {
   "cell_type": "code",
   "execution_count": 14,
   "metadata": {},
   "outputs": [
    {
     "name": "stdout",
     "output_type": "stream",
     "text": [
      "[' aa', 'a a', 'aa ', 'aaa', 'aab', 'aac', 'aad', 'aae', 'aaf', 'aag', 'aah', 'aai', 'aaj', 'aak', 'aal', 'aam', 'aan', 'aao', 'aap', 'aaq', 'aar', 'aas', 'aat', 'aau', 'aav', 'aaw', 'aax', 'aay', 'aaz', 'aa.', ' ab', 'a b', 'ab ', 'aba', 'abb', 'abc', 'abd', 'abe', 'abf', 'abg', 'abh', 'abi', 'abj', 'abk', 'abl', 'abm', 'abn', 'abo', 'abp', 'abq', 'abr', 'abs', 'abt', 'abu', 'abv', 'abw', 'abx', 'aby', 'abz', 'ab.', ' ac', 'a c', 'ac ', 'aca', 'acb', 'acc', 'acd', 'ace', 'acf', 'acg', 'ach', 'aci', 'acj', 'ack', 'acl', 'acm', 'acn', 'aco', 'acp', 'acq', 'acr', 'acs', 'act', 'acu', 'acv', 'acw', 'acx', 'acy', 'acz', 'ac.', ' ad', 'a d', 'ad ', 'ada', 'adb', 'adc', 'add', 'ade', 'adf', 'adg', 'adh', 'adi', 'adj', 'adk', 'adl', 'adm', 'adn', 'ado', 'adp', 'adq', 'adr', 'ads', 'adt', 'adu', 'adv', 'adw', 'adx', 'ady', 'adz', 'ad.', ' ae', 'a e', 'ae ', 'aea', 'aeb', 'aec', 'aed', 'aee', 'aef', 'aeg', 'aeh', 'aei', 'aej', 'aek', 'ael', 'aem', 'aen', 'aeo', 'aep', 'aeq', 'aer', 'aes', 'aet', 'aeu', 'aev', 'aew', 'aex', 'aey', 'aez', 'ae.'] \n",
      "\n",
      ". . . . .  \n",
      "\n",
      "['.we', '.wf', '.wg', '.wh', '.wi', '.wj', '.wk', '.wl', '.wm', '.wn', '.wo', '.wp', '.wq', '.wr', '.ws', '.wt', '.wu', '.wv', '.ww', '.wx', '.wy', '.wz', '.w.', ' .x', '. x', '.x ', '.xa', '.xb', '.xc', '.xd', '.xe', '.xf', '.xg', '.xh', '.xi', '.xj', '.xk', '.xl', '.xm', '.xn', '.xo', '.xp', '.xq', '.xr', '.xs', '.xt', '.xu', '.xv', '.xw', '.xx', '.xy', '.xz', '.x.', ' .y', '. y', '.y ', '.ya', '.yb', '.yc', '.yd', '.ye', '.yf', '.yg', '.yh', '.yi', '.yj', '.yk', '.yl', '.ym', '.yn', '.yo', '.yp', '.yq', '.yr', '.ys', '.yt', '.yu', '.yv', '.yw', '.yx', '.yy', '.yz', '.y.', ' .z', '. z', '.z ', '.za', '.zb', '.zc', '.zd', '.ze', '.zf', '.zg', '.zh', '.zi', '.zj', '.zk', '.zl', '.zm', '.zn', '.zo', '.zp', '.zq', '.zr', '.zs', '.zt', '.zu', '.zv', '.zw', '.zx', '.zy', '.zz', '.z.', ' ..', '. .', '.. ', '..a', '..b', '..c', '..d', '..e', '..f', '..g', '..h', '..i', '..j', '..k', '..l', '..m', '..n', '..o', '..p', '..q', '..r', '..s', '..t', '..u', '..v', '..w', '..x', '..y', '..z', '...', '!!!', '!!?', '!?!', '?!!', '?!?', '??!', '???']\n"
     ]
    }
   ],
   "source": [
    "#для сокращения объема будем всё приводить к нижнему регистру\n",
    "\n",
    "#alphabet = list('abcdefghijklmnopqrstuvwxyzABCDEFGHIJKLMNOPQRSTUVWXYZ')\n",
    "alphabet = list('abcdefghijklmnopqrstuvwxyz.')\n",
    "numbers_expanded = list('1234567890 ')\n",
    "trigram_vec = []\n",
    "\n",
    "for sym_1 in alphabet:\n",
    "    for sym_2 in alphabet:\n",
    "        \n",
    "        trigram_vec.append(' ' + sym_1 + sym_2)\n",
    "        trigram_vec.append(sym_1 + ' ' + sym_2)\n",
    "        trigram_vec.append(sym_1 + sym_2 + ' ')\n",
    "        \n",
    "        for sym_3 in alphabet:\n",
    "            trigram_vec.append(sym_1 + sym_2 + sym_3)\n",
    "            \n",
    "#for sym_1 in numbers_expanded:\n",
    "#    for sym_2 in numbers_expanded:\n",
    "#        trigram_vec.append(sym_1 + sym_2 + '%')\n",
    "#        trigram_vec.append(sym_1 + sym_2 + '$')\n",
    "\n",
    "for str_ in ['!!!', '!!?', '!?!', '?!!', '?!?', '??!', '???']:\n",
    "    trigram_vec.append(str_)\n",
    "\n",
    "print(trigram_vec[:150], '\\n')\n",
    "print('. . . . . ', '\\n')\n",
    "print(trigram_vec[-150:])"
   ]
  },
  {
   "cell_type": "code",
   "execution_count": 15,
   "metadata": {},
   "outputs": [
    {
     "name": "stdout",
     "output_type": "stream",
     "text": [
      "go until jurong point, crazy.. available only in bugis n great world la e buffet... cine there got amore wat... \n",
      "\n",
      "abl, a e, ail,  am, amo, at , at.,  av, ava, azy, ble,  bu, buf, bug,  ci, cin,  cr, cra, d l, eat, e b, e g, e o, ere, e t, et., e w, fet, ffe, gis,  go, go , got, g p,  gr, gre, her, il , ila,  in, in , ine, int, is ,  ju, jur,  la, la , lab, ld , le , l j, ly , mor, n b, ne , n g, ng , nly, nti, oin,  on, ong, onl, ore, orl, ot , o u,  po, poi, raz, re , rea, rld, ron, s n, t a,  th, the, til, t w, t.., uff, ugi,  un, unt, uro, vai,  wa, wat,  wo, wor, y i, y.., zy., . a, . c, .. , ..., "
     ]
    }
   ],
   "source": [
    "#пример того, как c помощью триграмм стоится столбец признаков test_trigram_vec\n",
    "#test_trigram_vec - сильно разреженый вектор, поэтому вывожу здесь только сами триграммы\n",
    "\n",
    "test = df.iloc[0]['Text'].lower()\n",
    "print(test, '\\n')\n",
    "\n",
    "test_trigram_vec = []\n",
    "\n",
    "for trig in trigram_vec:\n",
    "    \n",
    "    test_trigram_vec.append((lambda x: x and 1 or 0)(trig in test))\n",
    "    \n",
    "    if trig in test:\n",
    "        print(trig, end = ', ')\n",
    "        \n",
    "#print(test_trigram_vec)"
   ]
  },
  {
   "cell_type": "code",
   "execution_count": 16,
   "metadata": {},
   "outputs": [],
   "source": [
    "def DataTrigramVec(data):\n",
    "    \n",
    "    data.lower()\n",
    "    data_trigram_vec = []\n",
    "\n",
    "    for trig in trigram_vec:\n",
    "        data_trigram_vec.append((lambda x: x and 1 or 0)(trig in data))\n",
    "\n",
    "    return data_trigram_vec"
   ]
  },
  {
   "cell_type": "code",
   "execution_count": 17,
   "metadata": {},
   "outputs": [],
   "source": [
    "X_train = []\n",
    "for tmp in x_train:\n",
    "    X_train.append(DataTrigramVec(tmp))\n",
    "    \n",
    "#print(X_train)"
   ]
  },
  {
   "cell_type": "code",
   "execution_count": 24,
   "metadata": {},
   "outputs": [
    {
     "name": "stdout",
     "output_type": "stream",
     "text": [
      "<class 'list'>\n"
     ]
    }
   ],
   "source": [
    "print(type(X_train))"
   ]
  },
  {
   "cell_type": "code",
   "execution_count": 25,
   "metadata": {
    "scrolled": true
   },
   "outputs": [
    {
     "name": "stdout",
     "output_type": "stream",
     "text": [
      "колличество признаков:  21877 \n",
      " колличество сообщений:  3900\n"
     ]
    }
   ],
   "source": [
    "#строка триграмм в случае с верхним регистром получается слишком длинной, с этим невозможно было работать\n",
    "messages_num = len(X_train)\n",
    "cols_num = len(X_train[0])\n",
    "\n",
    "print('колличество признаков: ', cols_num, '\\n', 'колличество сообщений: ', messages_num) "
   ]
  },
  {
   "cell_type": "code",
   "execution_count": 26,
   "metadata": {},
   "outputs": [
    {
     "data": {
      "text/plain": [
       "SVC(C=1, cache_size=200, class_weight=None, coef0=0.0,\n",
       "    decision_function_shape='ovr', degree=3, gamma='auto_deprecated',\n",
       "    kernel='linear', max_iter=-1, probability=False, random_state=777,\n",
       "    shrinking=True, tol=0.001, verbose=False)"
      ]
     },
     "execution_count": 26,
     "metadata": {},
     "output_type": "execute_result"
    }
   ],
   "source": [
    "#cv = KFold(n_splits = 5, shuffle = True, random_state = 777)\n",
    "#clf = SVC(kernel = 'linear', random_state = 777)\n",
    "\n",
    "#gs = GridSearchCV(clf, grid, scoring = 'accuracy', cv = cv)\n",
    "#gs.fit(X_train, y_train)\n",
    "\n",
    "#clf = SVC(kernel = 'linear', random_state = 777, C = gs.best_params_['C'])\n",
    "#clf.fit(X_train, y_train)\n",
    "\n",
    "trig_clf = SVC(kernel = 'linear', random_state = 777, C = 1)\n",
    "trig_clf.fit(X_train, y_train)"
   ]
  },
  {
   "cell_type": "code",
   "execution_count": 21,
   "metadata": {
    "scrolled": true
   },
   "outputs": [
    {
     "name": "stdout",
     "output_type": "stream",
     "text": [
      "0\n",
      "0\n",
      "0\n",
      "0\n",
      "1\n",
      "1\n",
      "0\n",
      "0\n",
      "0\n",
      "0\n"
     ]
    }
   ],
   "source": [
    "X_test = np.array(x_test)\n",
    "test_x_pred_vect = []\n",
    "for tmp in X_test:\n",
    "    test_x_pred_vect.append(DataTrigramVec(tmp))\n",
    "    \n",
    "data_y_pred = trig_clf.predict(test_x_pred_vect)\n",
    "\n",
    "for i in data_y_pred[-10:]:\n",
    "    print(i)"
   ]
  },
  {
   "cell_type": "code",
   "execution_count": 22,
   "metadata": {},
   "outputs": [
    {
     "data": {
      "text/plain": [
       "'This is the 2nd time we have tried 2 contact u. U have won the еЈ750 Pound prize. 2 claim is easy, call 087187272008 NOW1! Only 10p per minute. BT-national-rate.'"
      ]
     },
     "execution_count": 22,
     "metadata": {},
     "output_type": "execute_result"
    }
   ],
   "source": [
    "X_test[-5] #пятое сообщение с конца помечено 1 - то есть является спамом"
   ]
  },
  {
   "cell_type": "code",
   "execution_count": 23,
   "metadata": {
    "scrolled": false
   },
   "outputs": [
    {
     "name": "stdout",
     "output_type": "stream",
     "text": [
      "accuracy = 0.9784688995215312\n",
      "precision =  0.8771929824561403\n",
      "recall =  0.9615384615384616\n"
     ]
    }
   ],
   "source": [
    "#Сравнение разных метрик\n",
    "#в данном случае negatine = ham, positive = spam\n",
    "\n",
    "test_len = len(y_test)\n",
    "pos_num = sum(y_test)\n",
    "neg_num = test_len - pos_num\n",
    "\n",
    "true_pos = 0\n",
    "true_neg = 0\n",
    "for i in range(test_len):\n",
    "    if data_y_pred[i] == y_test[i] == 1:\n",
    "        true_pos += 1\n",
    "    if data_y_pred[i] == y_test[i] == 0:\n",
    "        true_neg += 1\n",
    "\n",
    "false_pos = pos_num - true_pos\n",
    "false_neg = neg_num - true_neg\n",
    "\n",
    "print('accuracy =', (true_pos + true_neg) / test_len)\n",
    "print('precision = ', true_pos / (true_pos + false_pos))\n",
    "print('recall = ', true_pos / (true_pos + false_neg))"
   ]
  },
  {
   "cell_type": "code",
   "execution_count": 39,
   "metadata": {},
   "outputs": [
    {
     "data": {
      "text/plain": [
       "array([ 0.        , -0.04746957,  0.        , ...,  0.        ,\n",
       "        0.        , -0.01145405])"
      ]
     },
     "execution_count": 39,
     "metadata": {},
     "output_type": "execute_result"
    }
   ],
   "source": [
    "trig_clf.coef_[0]"
   ]
  },
  {
   "cell_type": "code",
   "execution_count": 24,
   "metadata": {
    "scrolled": true
   },
   "outputs": [
    {
     "name": "stdout",
     "output_type": "stream",
     "text": [
      "['lly', 'reo', 'llz', 'ls.', 'i c', ' go', 'lry', 'ful', 'hhz', 'yst', 'es.', 'yhs', 'ilg', '..n', 'umr', 'ee ', 'ojq', 'ang', 'wdo', 'lhu', ' al', 'uem', 'aty', 'hhu', 'cex', 'khq', 'rqi', 'hee', 'eek', 'fdu']\n"
     ]
    }
   ],
   "source": [
    "#Наиболее значимые триграммы для выявления неспама\n",
    "\n",
    "A = trig_clf.coef_[0]\n",
    "trig_imp_ham = []\n",
    "\n",
    "for j in range(cols_num):\n",
    "    \n",
    "    min_coef = 0\n",
    "    min_coef_ind = 0\n",
    "    \n",
    "    for i in range(len(A)):\n",
    "        if  A[i] < min_coef:\n",
    "            min_coef = A[i]\n",
    "            min_coef_ind = i\n",
    "    \n",
    "    A = np.delete(A, min_coef_ind)\n",
    "    trig_imp_ham.append(trigram_vec[min_coef_ind])\n",
    "    #print(trigram_vec[min_coef_ind])\n",
    "    \n",
    "print(trig_imp_ham[:30])"
   ]
  },
  {
   "cell_type": "code",
   "execution_count": 40,
   "metadata": {},
   "outputs": [
    {
     "name": "stdout",
     "output_type": "stream",
     "text": [
      "['nfo', 'inf', 'sia', 'rec', ' pm', 'epl', 'plv', 'xsw', 'ugv', 'osq', ' ly', 'z.r', 'all', 'nor', 'lk.', 'thm', 'sem', 'v.x', 'imz', 'neq', 'anm', 'grz', 'tnl', 'ett', 'sdl', '.bt', 'mnw', 'exu', 'tw.', 'aim']\n"
     ]
    }
   ],
   "source": [
    "#А это наиболее значимые триграммы непосредственно для выявления спама\n",
    "\n",
    "A = trig_clf.coef_[0]\n",
    "trig_imp_spam = []\n",
    "\n",
    "for j in range(cols_num):\n",
    "    \n",
    "    max_coef = 0\n",
    "    max_coef_ind = 0\n",
    "    \n",
    "    for i in range(len(A)):\n",
    "        if  A[i] > max_coef:\n",
    "            max_coef = A[i]\n",
    "            max_coef_ind = i\n",
    "    \n",
    "    A = np.delete(A, max_coef_ind)\n",
    "    trig_imp_spam.append(trigram_vec[max_coef_ind])\n",
    "    #print(trigram_vec[max_coef_ind])\n",
    "    \n",
    "print(trig_imp_spam[:30])"
   ]
  },
  {
   "cell_type": "code",
   "execution_count": 26,
   "metadata": {
    "scrolled": false
   },
   "outputs": [
    {
     "name": "stdout",
     "output_type": "stream",
     "text": [
      "2055\n"
     ]
    }
   ],
   "source": [
    "tmp = np.where(np.array(trigram_vec) == 'com')[0][0]\n",
    "\n",
    "print(tmp) # nfo находится на 10697 месте"
   ]
  },
  {
   "cell_type": "code",
   "execution_count": 38,
   "metadata": {},
   "outputs": [
    {
     "name": "stdout",
     "output_type": "stream",
     "text": [
      "вес триграммы lly: -0.3423899270953178\n",
      "вес триграммы ???: -0.011454052473612265\n",
      "вес триграммы www: 0.12268766564072589\n",
      "вес триграммы nfo: 0.7934107666304415\n",
      "вес триграммы com: -0.06750669239546953\n",
      "вес триграммы you: -0.16930482229793237\n",
      "вес триграммы all: 0.34754825864086547\n",
      "вес триграммы .co: 0.24404056238528804\n",
      "вес триграммы .uk: 0.1794366528178536\n",
      "вес триграммы amb: -0.04108883317870469\n",
      "вес триграммы txt: 0.2398368855887745\n",
      "вес триграммы epl: 0.5387869721363082\n"
     ]
    }
   ],
   "source": [
    "# узнаем веса интересующих нас триграмм в модели\n",
    "\n",
    "for trig in ['lly', '???', 'www', 'nfo', 'com', 'you', 'all', '.co', '.uk', 'amb', 'txt', 'epl']:\n",
    "    print(f'вес триграммы {trig}:', trig_clf.coef_[0][np.where(np.array(trigram_vec) == trig)[0][0]])\n"
   ]
  },
  {
   "cell_type": "code",
   "execution_count": 28,
   "metadata": {},
   "outputs": [
    {
     "name": "stdout",
     "output_type": "stream",
     "text": [
      "We shall await your immediate correspondence with the information requested above to his private email address at (raphaelbostic@usa.com) for fast re-confirmation so that he may conclude your payment immediately.  -  spam \n",
      "\n",
      "You are everywhere dirt, on the floor, the windows, even on my shirt. And sometimes when i open my mouth, you are all that comes flowing out. I dream of my world without you, then half my chores are out too. A time of joy for me, lots of tv shows i.ll see. But i guess like all things you just must exist, like rain, hail and mist, and when my time here is done, you and i become one.  -  ham \n",
      "\n",
      "We are pleased to inform you that an amount of £500,000.00 (GBP) has been donated and given, gifted to you and your family by Steve & Lenka Thomson, who won the EuroMillions jackpot, lottery of £105,100,701.90 Euro Millions, part of this donation,       it is for you and your family. This donation is to help fight against CoronaVirus COVID-19 pandemic in the world, and help the poor people off the streets, also to contribute to poverty reduction, public donations, public charity, orphanages, less      privileged and help poor individuals in your community please contact her to claim the money via email for more details: stevelenka@supportfoundation.co.uk  -  spam \n",
      "\n",
      "Hello handsome ! Are you finding that job ? Not being lazy ? Working towards getting back that net for mummy ? Where's my boytoy now ? Does he miss me ?  -  ham \n",
      "\n",
      "YOUR EMAIL ACCOUNT WAS SELECTED FOR A DONATION OF $ 3,500,000.00 FOR CHARITY. PLEASE CONTACT CHARLES JACKSON WITH THIS EMAIL: cj733981@gmail.com TO CLAIM YOUR DONATION  -  ham \n",
      "\n",
      "You are a winner U have been specially selected 2 receive еЈ1000 or a 4* holiday (flights inc) speak to a live operator 2 claim 0871277810910p/min (18+)  -  spam \n",
      "\n",
      "REMINDER FROM O2: To get 2.50 pounds free call credit and details of great offers pls reply 2 this text with your valid name, house no and postcode  -  spam \n",
      "\n",
      "This is the 2nd time we have tried 2 contact u. U have won the еЈ750 Pound prize. 2 claim is easy, call 087187272008 NOW1! Only 10p per minute. BT-national-rate.  -  spam \n",
      "\n"
     ]
    }
   ],
   "source": [
    "new_df = pd.read_excel('spam_testing.xlsx')\n",
    "new = []\n",
    "\n",
    "for str_ in new_df['Spam']:\n",
    "    new.append(str_)\n",
    "    \n",
    "new_pred_vect = []\n",
    "for tmp in new:\n",
    "    new_pred_vect.append(DataTrigramVec(tmp))\n",
    "new_pred = trig_clf.predict(new_pred_vect)\n",
    "\n",
    "for i in range(len(new)):\n",
    "    print(new[i], ' - ', (lambda x: x == 1 and 'spam' or 'ham')(new_pred[i]), '\\n')\n"
   ]
  },
  {
   "cell_type": "code",
   "execution_count": 44,
   "metadata": {},
   "outputs": [
    {
     "name": "stdout",
     "output_type": "stream",
     "text": [
      "free info get it all  -  spam \n",
      "\n",
      "Also Do Knock-Knock Jokes. For example: -knock-knock -who is that? -Ella -Ella Who? -Ella Who Akbar...  -  ham \n",
      "\n",
      "hey winner get your prize. all info in our site www.notspam.bs  -  spam \n",
      "\n",
      "hi buddy how you doin?  -  ham \n",
      "\n",
      "hey you are a winner get your prize, call us. all info at the discription  -  spam \n",
      "\n"
     ]
    }
   ],
   "source": [
    "#старый вариант ввода на триграммах\n",
    "\n",
    "new = np.array(['free info get it all', 'Also Do Knock-Knock Jokes. For example: -knock-knock -who is that? -Ella -Ella Who? -Ella Who Akbar...',\\\n",
    "                'hey winner get your prize. all info in our site www.notspam.bs', 'hi buddy how you doin?', 'hey you are a winner get your prize, call us. all info at the discription'])\n",
    "\n",
    "new_pred_vect = []\n",
    "for tmp in new:\n",
    "    new_pred_vect.append(DataTrigramVec(tmp))\n",
    "new_pred = trig_clf.predict(new_pred_vect)\n",
    "\n",
    "for i in range(len(new)):\n",
    "    print(new[i], ' - ', (lambda x: x == 1 and 'spam' or 'ham')(new_pred[i]), '\\n')\n"
   ]
  },
  {
   "cell_type": "code",
   "execution_count": 46,
   "metadata": {},
   "outputs": [
    {
     "name": "stdout",
     "output_type": "stream",
     "text": [
      "free info get it all  -  ham \n",
      "\n",
      "Also Do Knock-Knock Jokes. For example: -knock-knock -who is that? -Ella -Ella Who? -Ella Who Akbar...  -  ham \n",
      "\n",
      "hey winner get your prize. all info in our site www.notspam.bs  -  spam \n",
      "\n",
      "hi buddy how you doin?  -  ham \n",
      "\n",
      "hey you are a winner get your prize  -  spam \n",
      "\n"
     ]
    }
   ],
   "source": [
    "#старый вариант ввода на tfidf\n",
    "\n",
    "new = np.array(['free info get it all', 'Also Do Knock-Knock Jokes. For example: -knock-knock -who is that? -Ella -Ella Who? -Ella Who Akbar...',\\\n",
    "                'hey winner get your prize. all info in our site www.notspam.bs', 'hi buddy how you doin?', 'hey you are a winner get your prize'])\n",
    "\n",
    "new_pred_vect = vectorizer.transform(new)\n",
    "new_pred = clf.predict(new_pred_vect)\n",
    "\n",
    "for i in range(len(new)):\n",
    "    print(new[i], ' - ', (lambda x: x == 1 and 'spam' or 'ham')(new_pred[i]), '\\n')\n"
   ]
  },
  {
   "cell_type": "code",
   "execution_count": null,
   "metadata": {},
   "outputs": [],
   "source": []
  }
 ],
 "metadata": {
  "kernelspec": {
   "display_name": "Python 3",
   "language": "python",
   "name": "python3"
  },
  "language_info": {
   "codemirror_mode": {
    "name": "ipython",
    "version": 3
   },
   "file_extension": ".py",
   "mimetype": "text/x-python",
   "name": "python",
   "nbconvert_exporter": "python",
   "pygments_lexer": "ipython3",
   "version": "3.7.4"
  }
 },
 "nbformat": 4,
 "nbformat_minor": 2
}
